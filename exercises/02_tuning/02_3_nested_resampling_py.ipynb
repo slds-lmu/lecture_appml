{
 "cells": [
  {
   "cell_type": "markdown",
   "id": "f28fe7f5-2838-4f8b-9f8e-975e2f1b7e95",
   "metadata": {},
   "source": [
    "# Applied Machine Learning: In-class Exercise 02-3"
   ]
  },
  {
   "cell_type": "markdown",
   "id": "7fd93c32-e6e3-4471-a2d5-1a3eb172f157",
   "metadata": {},
   "source": [
    "## Goal\n",
    "\n",
    "After this exercise, you should be able to understand the importance of nested resampling when tuning ML algorithms to avoid overtuning of hyperparameters and how to apply nested resampling.\n",
    "\n",
    "## Exercises\n",
    "\n",
    "As a follow-up on the tuning use case, we continue with the German credit task and perform nested resampling. The purpose is to get a valid estimation of the generalization error without an optimistic bias introduced by tuning without nested resampling. For this task, we estimate the generalization error of a k-NN model implemented in scikit-learn.\n",
    "\n",
    "### Recap: Nested Resampling\n",
    "Recap the concept of nested sampling."
   ]
  },
  {
   "cell_type": "markdown",
   "id": "89607921-7ac9-4c5a-b15b-2737fc7d9df7",
   "metadata": {
    "tags": [
     "remove_cell"
    ]
   },
   "source": [
    "===SOLUTION===\n",
    "\n",
    "Nested resampling evaluates a learner combined with a tuning strategy to correctly estimate the generalization error. Linking a tuning strategy with a learner uses the training data to find a good hyperparameter configuration (HPC). Using the same data for performance estimation and hence taking the best-estimated generalization error of the best-performing model leads to an over-optimistic estimation. This is because information on the resampling splits may favor specific HPCs (overtuning) by chance."
   ]
  },
  {
   "cell_type": "markdown",
   "id": "f369c210-ef0d-4514-bc54-ae4ac111f105",
   "metadata": {},
   "source": [
    "## The RandomizedSearchCV\n",
    "For this exercise, we use the same setup as for the tuning use case with a 3-fold cross-validation, accuracy as performance measure, a random search, and a termination criterion of 40 evaluations. We define the RandomizedSearchCV and train it on the German credit task:\n",
    "\n",
    "### Recap: RandomizedSearchCV\n",
    "Recap what RandomizedSearchCV does."
   ]
  },
  {
   "cell_type": "markdown",
   "id": "f9dd0e40-4b58-47f5-8c9f-a9428d8e3ef9",
   "metadata": {
    "tags": [
     "remove_cell"
    ]
   },
   "source": [
    "===SOLUTION===\n",
    "\n",
    "The RandomizedSearchCV class from scikit-learn combines the learner and the hyperparameter optimization (HPO) to encapsulate the learner from its hyperparameters. When fitting RandomizedSearchCV, two steps are executed: (1) perform hyperparameter tuning based on the defined search strategy and (2) take the best HPC and fit a model with those hyperparameters to the full data set.\n",
    "\n",
    "Similar to the last exercise, we employ k-NN models as classifiers and tune two hyperparameters: $k$ and feature scaling. \n"
   ]
  },
  {
   "cell_type": "markdown",
   "id": "9793b08f-3039-42a6-aa70-236353368132",
   "metadata": {},
   "source": [
    "<details><summary>Hint 1:</summary>\n",
    "The RandomizedSearchCV is defined by specifying the learner (e.g., pipeline with preprocessing and k-NN), resampling strategy (e.g., StratifiedKFold), scoring measure, number of iterations, and the hyperparameter search space. RandomizedSearchCV then behaves like a normal estimator. We can use .fit() to perform both tuning and model fitting on the best HPC.\n",
    "</details>"
   ]
  },
  {
   "cell_type": "code",
   "execution_count": 1,
   "id": "initial_id",
   "metadata": {
    "ExecuteTime": {
     "end_time": "2025-03-27T09:32:56.835610Z",
     "start_time": "2025-03-27T09:32:55.614496Z"
    },
    "tags": [
     "remove_cell"
    ]
   },
   "outputs": [
    {
     "name": "stdout",
     "output_type": "stream",
     "text": [
      "Fitting 3 folds for each of 40 candidates, totalling 120 fits\n",
      "\n",
      "Best parameters: {'preprocessor': StandardScaler(), 'knn__n_neighbors': 9}\n",
      "Best accuracy: 0.7400\n"
     ]
    }
   ],
   "source": [
    "#===SOLUTION===\n",
    "\n",
    "import numpy as np\n",
    "import pandas as pd\n",
    "from sklearn.neighbors import KNeighborsClassifier\n",
    "from sklearn.pipeline import Pipeline\n",
    "from sklearn.preprocessing import StandardScaler\n",
    "from sklearn.model_selection import RandomizedSearchCV, StratifiedKFold\n",
    "from sklearn.datasets import fetch_openml\n",
    "\n",
    "\n",
    "X, y = fetch_openml(\"credit-g\", version=1, as_frame=True, return_X_y=True)\n",
    "\n",
    "X = pd.get_dummies(X, drop_first=True)\n",
    "\n",
    "# By default, we simply use StandardScaler for all features; to disable scaling, it can be replaced by 'passthrough'\n",
    "# Note: this simple pipeline applies StandardScaler to all features, which is not the best practice.\n",
    "# We will see more fine-grained feature preprocessing in the next exercises.\n",
    "pipeline = Pipeline([\n",
    "    ('preprocessor', StandardScaler()),\n",
    "    ('knn', KNeighborsClassifier())\n",
    "])\n",
    "\n",
    "# Define the hyperparameter search space:\n",
    "param_distributions = {\n",
    "    'knn__n_neighbors': np.arange(1, 101),\n",
    "    'preprocessor': [StandardScaler(), 'passthrough']\n",
    "}\n",
    "\n",
    "# Set up a 3-fold stratified cross-validation.\n",
    "cv = StratifiedKFold(n_splits=3, shuffle=True, random_state=42)\n",
    "\n",
    "# Set up RandomizedSearchCV with 40 iterations.\n",
    "random_search = RandomizedSearchCV(\n",
    "    estimator=pipeline,\n",
    "    param_distributions=param_distributions,\n",
    "    n_iter=40,\n",
    "    cv=cv,\n",
    "    scoring='accuracy',\n",
    "    n_jobs=-1,\n",
    "    random_state=42,\n",
    "    verbose=1\n",
    ")\n",
    "\n",
    "# Fit the AutoTuner: tune the hyperparameters and refit the best model.\n",
    "random_search.fit(X, y)\n",
    "\n",
    "# Output the tuning results.\n",
    "print(f\"\\nBest parameters: {random_search.best_params_}\")\n",
    "print(f\"Best accuracy: {random_search.best_score_:.4f}\")\n"
   ]
  },
  {
   "cell_type": "markdown",
   "id": "3ec310f3-e29b-4fe0-8a46-621303a741e8",
   "metadata": {},
   "source": [
    "## Perform nested resampling\n",
    "\n",
    "Setting the resampling strategy in `RandomizedSearchCV` defines how the hyperparameter configurations (HPCs) are internally evaluated and is hence called inner resampling. To get the final estimate of the generalization error, we have to resample the `RandomizedSearchCV` object itself. This resampling is also called outer resampling. Use `cross_validate()` to conduct a 3-fold cross-validation as the outer resampling strategy:\n",
    "\n",
    "<details><summary>Hint 1:</summary>\n",
    "As for a normal learner, we first have to define the resampling strategy and then call `cross_validate()`.\n",
    "</details>"
   ]
  },
  {
   "cell_type": "code",
   "execution_count": 2,
   "id": "368718106e06cd79",
   "metadata": {
    "ExecuteTime": {
     "end_time": "2025-03-27T09:33:02.045344Z",
     "start_time": "2025-03-27T09:32:58.740304Z"
    },
    "tags": [
     "remove_cell"
    ]
   },
   "outputs": [
    {
     "name": "stdout",
     "output_type": "stream",
     "text": [
      "Fitting 3 folds for each of 40 candidates, totalling 120 fits\n",
      "Fitting 3 folds for each of 40 candidates, totalling 120 fits\n",
      "Fitting 3 folds for each of 40 candidates, totalling 120 fits\n",
      "Aggregated classification error: 0.261987\n",
      "\n",
      "Fold-wise classification errors:\n",
      " fold  classification_error\n",
      "    1              0.275449\n",
      "    2              0.255255\n",
      "    3              0.255255\n"
     ]
    }
   ],
   "source": [
    "#===SOLUTION===\n",
    "\n",
    "from sklearn.model_selection import StratifiedKFold, cross_validate\n",
    "\n",
    "# Define outer (nested) 3-fold cross-validation with a fixed random seed.\n",
    "outer_cv = StratifiedKFold(n_splits=3, shuffle=True, random_state=31415)\n",
    "\n",
    "# Perform nested resampling: the inner tuning is performed by random_search.\n",
    "cv_results = cross_validate(\n",
    "    random_search,\n",
    "    X, y,\n",
    "    cv=outer_cv,\n",
    "    scoring='accuracy',\n",
    "    n_jobs=-1,\n",
    "    return_estimator=True\n",
    ")\n",
    "\n",
    "# Extract fold-wise accuracies and compute classification error for each fold.\n",
    "outer_accuracy_scores = cv_results['test_score']\n",
    "outer_classif_ce = 1 - outer_accuracy_scores\n",
    "\n",
    "# Aggregate the classification error across folds.\n",
    "aggregated_classif_ce = np.mean(outer_classif_ce)\n",
    "print(f\"Aggregated classification error: {aggregated_classif_ce:.6f}\")\n",
    "\n",
    "# Create and display a DataFrame with fold-wise classification errors.\n",
    "fold_scores_df = pd.DataFrame({\n",
    "    \"fold\": np.arange(1, len(outer_classif_ce) + 1),\n",
    "    \"classification_error\": outer_classif_ce\n",
    "})\n",
    "print(\"\\nFold-wise classification errors:\")\n",
    "print(fold_scores_df.to_string(index=False))\n"
   ]
  },
  {
   "cell_type": "markdown",
   "id": "d6d43ae6-1357-4826-81d6-fad42f96de5c",
   "metadata": {},
   "source": [
    "## Benchmark comparison\n",
    "\n",
    "Conduct a benchmark to compare the previously tuned k-NN model, which automatically finds the best hyperparameters, with an untuned k-NN (with randomly selected $k$ and no feature scaling) and two additional learners using their default hyperparameter values (e.g., a decision tree and a random forest without tuning them). Think about suitable learners (which you already know) and run a benchmark using `cross_validate()`. What can you observe (especially when looking at the untuned methods vs. the tuned k-NN model)?\n",
    "\n",
    "<details><summary>Hint 1:</summary>\n",
    "Use learners that are readily available in scikit-learn, such as `DecisionTreeClassifier`, `RandomForestClassifier`, and `KNeighborsClassifier`. For decision tree and random forest classifiers, no feature scaling is needed in this experiment.\n",
    "</details>\n",
    "\n",
    "<details><summary>Hint 2:</summary>\n",
    "You can organize all learners into a dictionary and use a loop to perform cross-validation on each learner. Store the classification errors for later comparison (mean errors, fold-wise errors, or plots).\n",
    "</details>"
   ]
  },
  {
   "cell_type": "code",
   "execution_count": 3,
   "id": "ab9f9489d57a089b",
   "metadata": {
    "ExecuteTime": {
     "end_time": "2025-03-27T09:33:06.474941Z",
     "start_time": "2025-03-27T09:33:02.051014Z"
    },
    "tags": [
     "remove_cell"
    ]
   },
   "outputs": [
    {
     "name": "stdout",
     "output_type": "stream",
     "text": [
      "Fitting 3 folds for each of 40 candidates, totalling 120 fits\n",
      "Fitting 3 folds for each of 40 candidates, totalling 120 fits\n",
      "Fitting 3 folds for each of 40 candidates, totalling 120 fits\n",
      "Fitting 3 folds for each of 40 candidates, totalling 120 fits\n",
      "Tuned k-NN - Mean classification error: 0.279\n",
      "  Fold 1: 0.288\n",
      "  Fold 2: 0.268\n",
      "  Fold 3: 0.288\n",
      "  Fold 4: 0.272\n",
      "\n",
      "Random Forest - Mean classification error: 0.246\n",
      "  Fold 1: 0.232\n",
      "  Fold 2: 0.232\n",
      "  Fold 3: 0.272\n",
      "  Fold 4: 0.248\n",
      "\n",
      "Decision Tree - Mean classification error: 0.315\n",
      "  Fold 1: 0.312\n",
      "  Fold 2: 0.312\n",
      "  Fold 3: 0.332\n",
      "  Fold 4: 0.304\n",
      "\n",
      "Untuned k-NN - Mean classification error: 0.354\n",
      "  Fold 1: 0.364\n",
      "  Fold 2: 0.340\n",
      "  Fold 3: 0.352\n",
      "  Fold 4: 0.360\n",
      "\n",
      "Benchmark Summary:\n",
      "      Learner  Mean Classification Error\n",
      "   Tuned k-NN                      0.279\n",
      "Random Forest                      0.246\n",
      "Decision Tree                      0.315\n",
      " Untuned k-NN                      0.354\n"
     ]
    },
    {
     "data": {
      "image/png": "[encoded data removed]",
      "text/plain": [
       "<Figure size 1000x600 with 1 Axes>"
      ]
     },
     "metadata": {},
     "output_type": "display_data"
    }
   ],
   "source": [
    "#===SOLUTION===\n",
    "\n",
    "import matplotlib.pyplot as plt\n",
    "from sklearn.tree import DecisionTreeClassifier\n",
    "from sklearn.ensemble import RandomForestClassifier\n",
    "\n",
    "\n",
    "# Tuned k-NN from previous tuning (nested CV is performed internally via RandomizedSearchCV)\n",
    "tuned_knn = random_search\n",
    "\n",
    "# Untuned random forest (default parameters)\n",
    "rf = RandomForestClassifier(random_state=42)\n",
    "\n",
    "# Untuned decision tree (default parameters)\n",
    "dt = DecisionTreeClassifier(random_state=42)\n",
    "\n",
    "# Untuned k-NN: we use a pipeline with scaling for comparability.\n",
    "untuned_knn = KNeighborsClassifier()\n",
    "\n",
    "# Organize the learners in a dictionary.\n",
    "learners = {\n",
    "    \"Tuned k-NN\": tuned_knn,\n",
    "    \"Random Forest\": rf,\n",
    "    \"Decision Tree\": dt,\n",
    "    \"Untuned k-NN\": untuned_knn\n",
    "}\n",
    "\n",
    "# Define the outer resampling (4-fold CV)\n",
    "outer_cv = StratifiedKFold(n_splits=4, shuffle=True, random_state=31415)\n",
    "\n",
    "# Dictionary to store benchmark results.\n",
    "benchmark_results = {}\n",
    "\n",
    "for name, learner in learners.items():\n",
    "    cv_results = cross_validate(\n",
    "        learner,\n",
    "        X, y,\n",
    "        cv=outer_cv,\n",
    "        scoring='accuracy',  # we use accuracy so that classification error = 1 - accuracy.\n",
    "        n_jobs=-1,\n",
    "        return_estimator=False\n",
    "    )\n",
    "    # Compute fold-wise classification error.\n",
    "    fold_errors = 1 - cv_results['test_score']\n",
    "    benchmark_results[name] = {\n",
    "        \"fold_errors\": fold_errors,\n",
    "        \"mean_error\": np.mean(fold_errors)\n",
    "    }\n",
    "\n",
    "    print(f\"{name} - Mean classification error: {benchmark_results[name]['mean_error']:.3f}\")\n",
    "    for i, err in enumerate(fold_errors, start=1):\n",
    "        print(f\"  Fold {i}: {err:.3f}\")\n",
    "    print()\n",
    "\n",
    "# Create a summary table for the benchmark\n",
    "summary = pd.DataFrame({\n",
    "    \"Learner\": list(benchmark_results.keys()),\n",
    "    \"Mean Classification Error\": [benchmark_results[name][\"mean_error\"] for name in benchmark_results]\n",
    "})\n",
    "print(\"Benchmark Summary:\")\n",
    "print(summary.to_string(index=False))\n",
    "\n",
    "# Boxplot of fold-wise classification errors for each learner\n",
    "# Prepare data in a list where each element is an array of fold errors.\n",
    "data_to_plot = [benchmark_results[name][\"fold_errors\"] for name in learners]\n",
    "\n",
    "plt.figure(figsize=(10, 6))\n",
    "plt.boxplot(data_to_plot, labels=list(learners.keys()))\n",
    "plt.title(\"Benchmark: Classification Error per Learner (4-fold CV)\")\n",
    "plt.ylabel(\"Classification Error\")\n",
    "plt.xlabel(\"Learner\")\n",
    "plt.grid(axis='y')\n",
    "plt.show()"
   ]
  },
  {
   "cell_type": "markdown",
   "id": "9ef1c8fb",
   "metadata": {},
   "source": [
    "Question: what is your observation?"
   ]
  },
  {
   "cell_type": "markdown",
   "id": "3e37916b",
   "metadata": {
    "tags": [
     "remove_cell"
    ]
   },
   "source": [
    "===SOLUTION===\n",
    "\n",
    "We observe that the random forest is very good out of the box without tuning. For k-NN the tuning has a high impact w.r.t. performance."
   ]
  },
  {
   "cell_type": "markdown",
   "id": "507bfb65-a8f7-44c8-849f-3d6253d99c89",
   "metadata": {},
   "source": [
    "## Summary\n",
    "* We learned how to encapsulate a learner from its hyperparameters by wrapping it in a `RandomizedSearchCV` object.\n",
    "\n",
    "* `RandomizedSearchCV` does so by applying internal hyperparameter optimization (HPO) using an inner resampling.\n",
    "\n",
    "* We have to additionally resample the `RandomizedSearchCV` to get valid estimations (outer resampling) and be able to compare it with other learners.\n",
    "\n",
    "* The outer resampling that is applied to a learner that already performs resampling internally (the inner resampling) for finding the best hyperparameters is called nested resampling."
   ]
  }
 ],
 "metadata": {
  "kernelspec": {
   "display_name": "py310",
   "language": "python",
   "name": "python3"
  },
  "language_info": {
   "codemirror_mode": {
    "name": "ipython",
    "version": 3
   },
   "file_extension": ".py",
   "mimetype": "text/x-python",
   "name": "python",
   "nbconvert_exporter": "python",
   "pygments_lexer": "ipython3",
   "version": "3.10.6"
  }
 },
 "nbformat": 4,
 "nbformat_minor": 5
}
