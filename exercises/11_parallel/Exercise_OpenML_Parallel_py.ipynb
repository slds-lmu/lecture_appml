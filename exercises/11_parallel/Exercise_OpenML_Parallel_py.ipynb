{
 "cells": [
  {
   "cell_type": "markdown",
   "id": "deaf4f28-cc01-4659-a70c-40e34c249d69",
   "metadata": {},
   "source": [
    "# Goal\n",
    "\n",
    "The objective of this exercise is to get hands-on experience with conducting large-scale machine learning experiments using scikit-learn, joblib, and the OpenML-Python library. You will learn how to set up a parallelized benchmark experiment on your laptop."
   ]
  },
  {
   "cell_type": "markdown",
   "id": "57973308-f032-4ab1-b97a-dd26533ad175",
   "metadata": {},
   "source": [
    "# Prerequisites\n",
    "\n",
    "We need the following libraries:"
   ]
  },
  {
   "cell_type": "code",
   "execution_count": 1,
   "id": "ce7c9dc8-bcec-4ab6-bb1d-b616848a45bb",
   "metadata": {},
   "outputs": [],
   "source": [
    "import openml\n",
    "import pandas as pd\n",
    "import numpy as np\n",
    "from sklearn.model_selection import cross_validate, StratifiedKFold\n",
    "from sklearn.tree import DecisionTreeClassifier\n",
    "from sklearn.ensemble import RandomForestClassifier\n",
    "from sklearn.svm import SVC\n",
    "from sklearn.neighbors import KNeighborsClassifier\n",
    "from sklearn.naive_bayes import GaussianNB\n",
    "from joblib import Parallel, delayed\n",
    "import matplotlib.pyplot as plt"
   ]
  },
  {
   "cell_type": "markdown",
   "id": "f4499a83-b664-4881-a2da-83049db0827c",
   "metadata": {},
   "source": [
    "To draw meaningful conclusions from benchmark experiments, a good choice of data sets and tasks is essential. OpenML is an open-source online platform that facilitates the sharing of machine learning research data, algorithms, and experimental results in a standardized format. Finding data from OpenML is possible via the website or its API. The `OpenML-Python` package offers an elegant connection between Python and OpenML. The function `openml.tasks.list_tasks()` can be used to filter tasks for specific properties. To get started, utilize this to create a list of tasks with 10-20 features, 500-1000 rows and a categorical outcome with two classes. From this list, remove duplicate instances with similar names (sometimes, different versions of more or less the same data set are produced). For example, you could do this by removing instances where the first 3 letters of the name column match those of other instances. Further, exclude instances where the minority class is less than 10% of the overall number of observations."
   ]
  },
  {
   "cell_type": "code",
   "execution_count": 2,
   "id": "7e04be25-3ccf-49dc-895d-3a4881fe9726",
   "metadata": {
    "tags": [
     "remove_cell"
    ]
   },
   "outputs": [
    {
     "name": "stdout",
     "output_type": "stream",
     "text": [
      "22 tasks remain after filtering.\n"
     ]
    },
    {
     "name": "stderr",
     "output_type": "stream",
     "text": [
      "/home/matthias/miniconda3/envs/25appml/lib/python3.13/site-packages/openml/tasks/functions.py:235: RuntimeWarning: Invalid xml for task 362155: 0\n",
      "From {'oml:task_id': '362155', 'oml:task_type_id': '1', 'oml:task_type': 'Supervised Classification', 'oml:did': '31', 'oml:name': 'credit-g', 'oml:status': 'active', 'oml:format': 'ARFF', 'oml:input': [{'@name': 'estimation_procedure', '#text': '0'}, {'@name': 'source_data', '#text': '31'}, {'@name': 'target_feature', '#text': 'classification problem'}], 'oml:quality': [{'@name': 'MajorityClassSize', '#text': '700.0'}, {'@name': 'MaxNominalAttDistinctValues', '#text': '10.0'}, {'@name': 'MinorityClassSize', '#text': '300.0'}, {'@name': 'NumberOfClasses', '#text': '2.0'}, {'@name': 'NumberOfFeatures', '#text': '21.0'}, {'@name': 'NumberOfInstances', '#text': '1000.0'}, {'@name': 'NumberOfInstancesWithMissingValues', '#text': '0.0'}, {'@name': 'NumberOfMissingValues', '#text': '0.0'}, {'@name': 'NumberOfNumericFeatures', '#text': '7.0'}, {'@name': 'NumberOfSymbolicFeatures', '#text': '14.0'}]}\n",
      "  return __list_tasks(api_call=api_call, output_format=output_format)\n",
      "/home/matthias/miniconda3/envs/25appml/lib/python3.13/site-packages/openml/tasks/functions.py:235: RuntimeWarning: Invalid xml for task 362156: 33\n",
      "From {'oml:task_id': '362156', 'oml:task_type_id': '1', 'oml:task_type': 'Supervised Classification', 'oml:did': '31', 'oml:name': 'credit-g', 'oml:status': 'active', 'oml:format': 'ARFF', 'oml:input': [{'@name': 'estimation_procedure', '#text': '33'}, {'@name': 'source_data', '#text': '31'}, {'@name': 'target_feature', '#text': 'target_column_name'}], 'oml:quality': [{'@name': 'MajorityClassSize', '#text': '700.0'}, {'@name': 'MaxNominalAttDistinctValues', '#text': '10.0'}, {'@name': 'MinorityClassSize', '#text': '300.0'}, {'@name': 'NumberOfClasses', '#text': '2.0'}, {'@name': 'NumberOfFeatures', '#text': '21.0'}, {'@name': 'NumberOfInstances', '#text': '1000.0'}, {'@name': 'NumberOfInstancesWithMissingValues', '#text': '0.0'}, {'@name': 'NumberOfMissingValues', '#text': '0.0'}, {'@name': 'NumberOfNumericFeatures', '#text': '7.0'}, {'@name': 'NumberOfSymbolicFeatures', '#text': '14.0'}]}\n",
      "  return __list_tasks(api_call=api_call, output_format=output_format)\n"
     ]
    }
   ],
   "source": [
    "#===SOLUTION===\n",
    "\n",
    "# --- 1.1  Query tasks ---------------------------------------------------------\n",
    "# We limit ourselves to classification tasks on tabular data\n",
    "task_list = openml.tasks.list_tasks(\n",
    "    output_format=\"dataframe\",\n",
    "    task_type=openml.tasks.TaskType.SUPERVISED_CLASSIFICATION\n",
    ")\n",
    "\n",
    "# --- 1.2  Meta-data filtering -------------------------------------------------\n",
    "mask = (\n",
    "    (task_list[\"NumberOfFeatures\"].between(10, 20)) &\n",
    "    (task_list[\"NumberOfInstances\"].between(500, 1000)) &\n",
    "    (task_list[\"NumberOfClasses\"] == 2)\n",
    ")\n",
    "candidates = task_list[mask].copy()\n",
    "\n",
    "# --- 1.3  Deduplicate by first three letters of the name ---------------------\n",
    "candidates[\"name3\"] = candidates[\"name\"].str[:3].str.lower()\n",
    "candidates = (\n",
    "    candidates\n",
    "    .sort_values(\"tid\")              # keep the earliest version\n",
    "    .drop_duplicates(\"name3\")\n",
    "    .drop(columns=\"name3\")\n",
    ")\n",
    "\n",
    "# --- 1.4  Filter strongly imbalanced targets (minority <10 %) ----------------\n",
    "def minority_share(row):\n",
    "    # Download *just* the meta-data, not the full data\n",
    "    dataset_id = row[\"did\"]\n",
    "    ds = openml.datasets.get_dataset(dataset_id, download_data=False)\n",
    "    minor = ds.qualities[\"MinorityClassSize\"]\n",
    "    major = ds.qualities[\"MajorityClassSize\"]\n",
    "    return minor / (major + minor)\n",
    "\n",
    "# Note: this tiny fetch is fast; still, wrap in .apply to avoid massive downloads\n",
    "candidates[\"minority_share\"] = candidates.apply(minority_share, axis=1)\n",
    "candidates = candidates[candidates[\"minority_share\"] >= 0.10]\n",
    "\n",
    "print(f\"{len(candidates)} tasks remain after filtering.\")"
   ]
  },
  {
   "cell_type": "markdown",
   "id": "217e7a1b-8a7f-4eeb-ad40-0e7590ec12d8",
   "metadata": {},
   "source": [
    "# Exercise 2: Working with OpenML data\n",
    "\n",
    "Notably, `openml.task.list_tasks` only retrieves relevant information about the tasks, and not the data itself. Load the corresponding dataset and figure out how to obtain the dataset as a pandas dataframe."
   ]
  },
  {
   "cell_type": "code",
   "execution_count": 3,
   "id": "1029c6ca-9362-4640-9387-904bc1fceb0d",
   "metadata": {
    "tags": [
     "remove_cell"
    ]
   },
   "outputs": [
    {
     "name": "stdout",
     "output_type": "stream",
     "text": [
      "OpenML Classification Task\n",
      "==========================\n",
      "Task Type Description: https://www.openml.org/tt/TaskType.SUPERVISED_CLASSIFICATION\n",
      "Task ID..............: 15\n",
      "Task URL.............: https://www.openml.org/t/15\n",
      "Estimation Procedure.: crossvalidation\n",
      "Target Feature.......: Class\n",
      "# of Classes.........: 2\n",
      "Cost Matrix..........: Available\n"
     ]
    },
    {
     "data": {
      "text/html": [
       "<div>\n",
       "<style scoped>\n",
       "    .dataframe tbody tr th:only-of-type {\n",
       "        vertical-align: middle;\n",
       "    }\n",
       "\n",
       "    .dataframe tbody tr th {\n",
       "        vertical-align: top;\n",
       "    }\n",
       "\n",
       "    .dataframe thead th {\n",
       "        text-align: right;\n",
       "    }\n",
       "</style>\n",
       "<table border=\"1\" class=\"dataframe\">\n",
       "  <thead>\n",
       "    <tr style=\"text-align: right;\">\n",
       "      <th></th>\n",
       "      <th>Clump_Thickness</th>\n",
       "      <th>Cell_Size_Uniformity</th>\n",
       "      <th>Cell_Shape_Uniformity</th>\n",
       "      <th>Marginal_Adhesion</th>\n",
       "      <th>Single_Epi_Cell_Size</th>\n",
       "      <th>Bare_Nuclei</th>\n",
       "      <th>Bland_Chromatin</th>\n",
       "      <th>Normal_Nucleoli</th>\n",
       "      <th>Mitoses</th>\n",
       "    </tr>\n",
       "  </thead>\n",
       "  <tbody>\n",
       "    <tr>\n",
       "      <th>0</th>\n",
       "      <td>5.0</td>\n",
       "      <td>1.0</td>\n",
       "      <td>1.0</td>\n",
       "      <td>1.0</td>\n",
       "      <td>2.0</td>\n",
       "      <td>1.0</td>\n",
       "      <td>3.0</td>\n",
       "      <td>1.0</td>\n",
       "      <td>1.0</td>\n",
       "    </tr>\n",
       "    <tr>\n",
       "      <th>1</th>\n",
       "      <td>5.0</td>\n",
       "      <td>4.0</td>\n",
       "      <td>4.0</td>\n",
       "      <td>5.0</td>\n",
       "      <td>7.0</td>\n",
       "      <td>10.0</td>\n",
       "      <td>3.0</td>\n",
       "      <td>2.0</td>\n",
       "      <td>1.0</td>\n",
       "    </tr>\n",
       "    <tr>\n",
       "      <th>2</th>\n",
       "      <td>3.0</td>\n",
       "      <td>1.0</td>\n",
       "      <td>1.0</td>\n",
       "      <td>1.0</td>\n",
       "      <td>2.0</td>\n",
       "      <td>2.0</td>\n",
       "      <td>3.0</td>\n",
       "      <td>1.0</td>\n",
       "      <td>1.0</td>\n",
       "    </tr>\n",
       "    <tr>\n",
       "      <th>3</th>\n",
       "      <td>6.0</td>\n",
       "      <td>8.0</td>\n",
       "      <td>8.0</td>\n",
       "      <td>1.0</td>\n",
       "      <td>3.0</td>\n",
       "      <td>4.0</td>\n",
       "      <td>3.0</td>\n",
       "      <td>7.0</td>\n",
       "      <td>1.0</td>\n",
       "    </tr>\n",
       "    <tr>\n",
       "      <th>4</th>\n",
       "      <td>4.0</td>\n",
       "      <td>1.0</td>\n",
       "      <td>1.0</td>\n",
       "      <td>3.0</td>\n",
       "      <td>2.0</td>\n",
       "      <td>1.0</td>\n",
       "      <td>3.0</td>\n",
       "      <td>1.0</td>\n",
       "      <td>1.0</td>\n",
       "    </tr>\n",
       "  </tbody>\n",
       "</table>\n",
       "</div>"
      ],
      "text/plain": [
       "   Clump_Thickness  Cell_Size_Uniformity  Cell_Shape_Uniformity  \\\n",
       "0              5.0                   1.0                    1.0   \n",
       "1              5.0                   4.0                    4.0   \n",
       "2              3.0                   1.0                    1.0   \n",
       "3              6.0                   8.0                    8.0   \n",
       "4              4.0                   1.0                    1.0   \n",
       "\n",
       "   Marginal_Adhesion  Single_Epi_Cell_Size  Bare_Nuclei  Bland_Chromatin  \\\n",
       "0                1.0                   2.0          1.0              3.0   \n",
       "1                5.0                   7.0         10.0              3.0   \n",
       "2                1.0                   2.0          2.0              3.0   \n",
       "3                1.0                   3.0          4.0              3.0   \n",
       "4                3.0                   2.0          1.0              3.0   \n",
       "\n",
       "   Normal_Nucleoli  Mitoses  \n",
       "0              1.0      1.0  \n",
       "1              2.0      1.0  \n",
       "2              1.0      1.0  \n",
       "3              7.0      1.0  \n",
       "4              1.0      1.0  "
      ]
     },
     "metadata": {},
     "output_type": "display_data"
    }
   ],
   "source": [
    "#===SOLUTION===\n",
    "\n",
    "example_task_id = int(candidates.iloc[0][\"tid\"])\n",
    "task = openml.tasks.get_task(example_task_id)\n",
    "\n",
    "X, y = task.get_X_and_y(dataset_format=\"dataframe\")\n",
    "\n",
    "print(task)                        # brief summary\n",
    "display(X.head())                 # first rows"
   ]
  },
  {
   "cell_type": "markdown",
   "id": "82e66b66-2d8a-422e-a77b-eca2bc8b6b21",
   "metadata": {},
   "source": [
    "# 3  Benchmark experiment – German Credit example (task 31)\n",
    "\n",
    "For this task, look at the german credit data set. Retrieve it from OpenML (task id: 31) and define a tree, an SVM and a Random Forest as they shall be benchmarked later.\n",
    "\n",
    "Conduct the following tasks to evaluate multiple machine learning algorithms in parallel:\n",
    "* Download the task with ID 31 (German Credit).\n",
    "* Create feature matrix X and label vector y.\n",
    "* Define at least three learners (e.g. tree, random-forest, SVM).\n",
    "* Set up 10-fold stratified cross-validation.\n",
    "* Evaluate each learner (mean accuracy is fine).\n",
    "* Display the results as\n",
    "* a tidy DataFrame sorted by performance and\n",
    "* a simple bar plot."
   ]
  },
  {
   "cell_type": "code",
   "execution_count": 4,
   "id": "1ceef1ef-b0a0-4106-8af8-347021c2c04e",
   "metadata": {},
   "outputs": [],
   "source": [
    "from sklearn.pipeline import Pipeline\n",
    "from sklearn.compose import ColumnTransformer, make_column_selector\n",
    "from sklearn.preprocessing import StandardScaler, OneHotEncoder\n",
    "from sklearn.impute import SimpleImputer\n",
    "from sklearn import set_config, clone\n",
    "\n",
    "set_config(transform_output=\"pandas\")"
   ]
  },
  {
   "cell_type": "code",
   "execution_count": 5,
   "id": "d965132e-93a1-40f1-be33-2af8bfc94a20",
   "metadata": {
    "tags": [
     "remove_cell"
    ]
   },
   "outputs": [
    {
     "name": "stdout",
     "output_type": "stream",
     "text": [
      "        learner  accuracy\n",
      "2       SVM-RBF     0.768\n",
      "1  RandomForest     0.762\n",
      "0  DecisionTree     0.663\n"
     ]
    },
    {
     "data": {
      "image/png": "[encoded data removed]",
      "text/plain": [
       "<Figure size 800x400 with 1 Axes>"
      ]
     },
     "metadata": {},
     "output_type": "display_data"
    }
   ],
   "source": [
    "#===SOLUTION===\n",
    "\n",
    "german_task   = openml.tasks.get_task(31)\n",
    "german_X, german_y = german_task.get_X_and_y(dataset_format=\"dataframe\")\n",
    "\n",
    "learners = {\n",
    "    \"DecisionTree\":   DecisionTreeClassifier(random_state=42),\n",
    "    \"RandomForest\":   RandomForestClassifier(n_estimators=200, random_state=42, n_jobs=-1),\n",
    "    \"SVM-RBF\":        SVC(kernel=\"rbf\", probability=True, random_state=42),\n",
    "}\n",
    "\n",
    "ct = ColumnTransformer(\n",
    "    [\n",
    "        (\n",
    "            \"numeric\", \n",
    "            Pipeline(\n",
    "                [(\"impute\", SimpleImputer(strategy=\"mean\")), (\"scale\", StandardScaler())]\n",
    "            ), \n",
    "            make_column_selector(dtype_include=np.number),\n",
    "        ),\n",
    "        (\"categorical\", OneHotEncoder(handle_unknown=\"ignore\", sparse_output=False), make_column_selector(dtype_exclude=np.number)),\n",
    "    ]\n",
    ")\n",
    "\n",
    "cv = StratifiedKFold(n_splits=10, shuffle=True, random_state=42)\n",
    "\n",
    "def evaluate(name, estimator, X, y, cv):\n",
    "    \"\"\"Run 10-fold CV and return the mean accuracy for one learner.\"\"\"\n",
    "    pipeline = Pipeline(\n",
    "        [\n",
    "            (\"transformer\", clone(ct)),\n",
    "            (\"estimator\", estimator)\n",
    "        ]\n",
    "    )\n",
    "    res = cross_validate(\n",
    "        pipeline, X, y,\n",
    "        cv=cv,\n",
    "        n_jobs=-1,           # will be ignored because of n_jobs=-1 below\n",
    "        scoring=\"accuracy\",\n",
    "        return_train_score=False\n",
    "    )\n",
    "    return {\"learner\": name, \"accuracy\": res[\"test_score\"].mean()}\n",
    "\n",
    "# Outer-loop parallelisation: run learners side-by-side\n",
    "results = Parallel(n_jobs=-1)(\n",
    "    delayed(evaluate)(name, est, german_X, german_y, cv)\n",
    "    for name, est in learners.items()\n",
    ")\n",
    "results_df = pd.DataFrame(results).sort_values(\"accuracy\", ascending=False)\n",
    "print(results_df)\n",
    "\n",
    "plt.figure(figsize=(8, 4))\n",
    "plt.bar(results_df[\"learner\"], results_df[\"accuracy\"])\n",
    "plt.ylabel(\"Mean CV accuracy\")\n",
    "plt.title(\"German Credit – 10-fold CV\")\n",
    "plt.ylim(0, 1)\n",
    "plt.show()"
   ]
  },
  {
   "cell_type": "markdown",
   "id": "79d76b41-5c80-4d71-9453-e0bbae77c5cd",
   "metadata": {},
   "source": [
    "Obviously, this code could be optimized further, for example:\n",
    "\n",
    "1. evaluate every fold in parallel\n",
    "2. evaluate multiple datasets in parallel\n",
    "3. replace `joblib.Parallel` by a more versatile scheduler that allows retrieving intermediate results to persist them on disk\n",
    "4. run in parallel across multiple machines, for example, using the [dask library](https://joblib.readthedocs.io/en/latest/auto_examples/parallel/distributed_backend_simple.html) or the [pyexperimenter](https://github.com/tornede/py_experimenter)"
   ]
  },
  {
   "cell_type": "markdown",
   "id": "bef646a4-e1d2-472d-84a8-4589c8267c4e",
   "metadata": {},
   "source": [
    "# 4. Fully parallel\n",
    "\n",
    "No, implement improvement one and two from above: extend the function to take the dataset and the fold number as argument"
   ]
  },
  {
   "cell_type": "code",
   "execution_count": 6,
   "id": "015a8b49-29ee-4833-a24b-edd2ed9cc3f3",
   "metadata": {},
   "outputs": [],
   "source": [
    "import itertools\n",
    "\n",
    "import openml\n",
    "from sklearn.pipeline import Pipeline\n",
    "from sklearn.compose import ColumnTransformer, make_column_selector\n",
    "from sklearn.preprocessing import StandardScaler, OneHotEncoder\n",
    "from sklearn.impute import SimpleImputer\n",
    "from sklearn import set_config, clone\n",
    "from sklearn.metrics import accuracy_score\n",
    "\n",
    "set_config(transform_output=\"pandas\")"
   ]
  },
  {
   "cell_type": "code",
   "execution_count": 7,
   "id": "92e450ea-a5dd-48be-b3c8-7ba1f3dd202d",
   "metadata": {
    "tags": [
     "remove_cell"
    ]
   },
   "outputs": [
    {
     "name": "stdout",
     "output_type": "stream",
     "text": [
      "                      accuracy\n",
      "task_id learner               \n",
      "20      DecisionTree    0.8775\n",
      "        RandomForest    0.9735\n",
      "        SVM-RBF         0.9760\n",
      "31      DecisionTree    0.6630\n",
      "        RandomForest    0.7620\n",
      "        SVM-RBF         0.7680\n"
     ]
    }
   ],
   "source": [
    "#===SOLUTION===\n",
    "\n",
    "cv = StratifiedKFold(n_splits=10, shuffle=True, random_state=42)\n",
    "task_ids = (31, 20)\n",
    "openml.populate_cache(task_ids=task_ids)\n",
    "\n",
    "def evaluate(name, estimator, task_id, cv, fold_number):\n",
    "    german_task   = openml.tasks.get_task(task_id)\n",
    "    X, y = german_task.get_X_and_y(dataset_format=\"dataframe\")\n",
    "    \"\"\"Run 10-fold CV and return the mean accuracy for one learner.\"\"\"\n",
    "    pipeline = Pipeline(\n",
    "        [\n",
    "            (\"transformer\", clone(ct)),\n",
    "            (\"estimator\", estimator)\n",
    "        ]\n",
    "    )\n",
    "    for fold_idx, (train_idx, valid_idx) in enumerate(cv.split(X=X, y=y)):\n",
    "        \n",
    "        if fold_idx != fold_number:\n",
    "            continue\n",
    "        \n",
    "        X_train = X.iloc[train_idx]\n",
    "        y_train = y.iloc[train_idx]\n",
    "        X_valid = X.iloc[valid_idx]\n",
    "        y_valid = y.iloc[valid_idx]\n",
    "\n",
    "        pipeline.fit(X_train, y_train)\n",
    "        y_hat = pipeline.predict(X_valid)\n",
    "        \n",
    "        return {\"learner\": name, \"accuracy\": accuracy_score(y_valid, y_hat), \"task_id\": task_id}\n",
    "\n",
    "# Outer-loop parallelisation: run learners side-by-side\n",
    "results = Parallel(n_jobs=-1)(\n",
    "    delayed(evaluate)(name, est, task_id, cv, fold_number)\n",
    "    for task_id, (name, est), fold_number in itertools.product(task_ids, learners.items(), range(10))\n",
    ")\n",
    "results_df = pd.DataFrame(results).groupby([\"task_id\", \"learner\"]).mean(\"accuracy\")\n",
    "print(results_df)"
   ]
  },
  {
   "cell_type": "markdown",
   "id": "36dece1d-781d-455d-a32e-ea8521d10902",
   "metadata": {},
   "source": [
    "# 5. Summary\n",
    "\n",
    "* **openml-python** replaces `mlr3oml` for task discovery and dataset retrieval.\n",
    "* **scikit-learn** models stand in for mlr3 learners.\n",
    "* **joblib** gives you painless multicore execution both:\n",
    "\n",
    "  * **inside** each `cross_validate` call (`n_jobs=-1`), and\n",
    "  * **outside** when dispatching different learners/tasks in parallel.\n",
    "\n",
    "You now have a fully Pythonic, laptop-friendly template for large-scale benchmarking that mirrors the structure and pedagogical intent of the original R exercise. "
   ]
  },
  {
   "cell_type": "code",
   "execution_count": null,
   "id": "10aaef95-40c4-4864-ae35-ff41a80836e0",
   "metadata": {},
   "outputs": [],
   "source": []
  }
 ],
 "metadata": {
  "kernelspec": {
   "display_name": "Python 3 (ipykernel)",
   "language": "python",
   "name": "python3"
  },
  "language_info": {
   "codemirror_mode": {
    "name": "ipython",
    "version": 3
   },
   "file_extension": ".py",
   "mimetype": "text/x-python",
   "name": "python",
   "nbconvert_exporter": "python",
   "pygments_lexer": "ipython3",
   "version": "3.13.2"
  }
 },
 "nbformat": 4,
 "nbformat_minor": 5
}
