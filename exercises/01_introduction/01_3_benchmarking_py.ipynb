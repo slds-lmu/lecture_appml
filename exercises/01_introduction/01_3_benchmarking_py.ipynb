{
 "cells": [
  {
   "cell_type": "markdown",
   "id": "6509568f-3338-4802-b3fc-58f85970986e",
   "metadata": {},
   "source": [
    "# Applied Machine Learning: In-class Exercise 01-3"
   ]
  },
  {
   "cell_type": "markdown",
   "id": "80f6d807-f057-42a1-ae6e-f54f8b81658e",
   "metadata": {},
   "source": [
    "## Goal\n",
    "\n",
    "In this exercise, we go beyond resampling single learners and explore how to benchmark multiple models efficiently. Instead of tuning hyperparameters, we compare identical models with manually set hyperparameters. Our focus is on systematically evaluating model performance using benchmarking techniques in scikit-learn.\n",
    "\n",
    "## German Credit Data\n",
    "\n",
    "For this benchmarking task, we use the German Credit Data dataset from OpenML."
   ]
  },
  {
   "cell_type": "code",
   "execution_count": 1,
   "id": "977093680fe294d1",
   "metadata": {
    "ExecuteTime": {
     "end_time": "2025-03-26T09:46:37.069870Z",
     "start_time": "2025-03-26T09:46:37.047825Z"
    }
   },
   "outputs": [],
   "source": [
    "import numpy as np\n",
    "import pandas as pd\n",
    "import warnings\n",
    "\n",
    "from sklearn.datasets import fetch_openml\n",
    "\n",
    "warnings.filterwarnings(\"ignore\")\n",
    "\n",
    "\n",
    "# Set seed for reproducibility\n",
    "rng = np.random.RandomState(seed=2025)\n",
    "\n",
    "# Load the German Credit Data from OpenML.\n",
    "data = fetch_openml(name='credit-g', version=1, as_frame=True)\n",
    "X = data.data\n",
    "\n",
    "# Record which columns are continuous, this will be useful later.\n",
    "continuous_cols = X.select_dtypes(include=[np.number]).columns.tolist()\n",
    "\n",
    "# Here we assume that \"good\" is the positive class and we encode it to 1. \n",
    "# Therefore, \"bad\" is the negative class and is encoded to 0.\n",
    "y = data.target == 'good'\n",
    "\n",
    "# One-hot encode categorical features.\n",
    "X = pd.get_dummies(X, drop_first=True)"
   ]
  },
  {
   "cell_type": "markdown",
   "id": "85c133bd-f04a-4b0e-a65a-eae24ccc2b29",
   "metadata": {},
   "source": [
    "## Exercise: Benchmark Multiple Learners\n",
    "\n",
    "In this exercise, we compare a range of K-Nearest Neighbors (KNN) models with different values of k, ranging from 3 to 30. Additionally, we evaluate the performance of Logistic Regression as a baseline model.\n",
    "\n",
    "## Create the Learners\n",
    "\n",
    "We define a Logistic Regression model and multiple KNN models with k-values from 3 to 30. Each KNN model is assigned an ID that reflects its k value. All learners are stored in a list for benchmarking.\n",
    "\n",
    "<details>\n",
    "<summary>Hint 1:</summary>\n",
    "Use list comprehension to create a list of tuples, where each tuple contains a learner ID and a learner object. Similarily, create a single tuple for the Logistic Regression model.\n",
    "Then, you can concatenate the two lists to create a list of all learners.\n",
    "</details>\n",
    "\n",
    "<details>\n",
    "<summary>Hint 2:</summary>\n",
    "Better wrap the creation of the learners in a function, so that we can reuse it later (in the last part of this exercise).\n",
    "</details>"
   ]
  },
  {
   "cell_type": "code",
   "execution_count": 2,
   "id": "5c85e711-c57f-45f3-a795-f4b774921d52",
   "metadata": {
    "ExecuteTime": {
     "end_time": "2025-03-26T09:32:13.341683Z",
     "start_time": "2025-03-26T09:32:13.338859Z"
    },
    "tags": [
     "remove_cell"
    ]
   },
   "outputs": [],
   "source": [
    "#===SOLUTION===\n",
    "from sklearn.linear_model import LogisticRegression\n",
    "from sklearn.neighbors import KNeighborsClassifier\n",
    "\n",
    "def create_learners():\n",
    "    # Create a dictionary to store learners\n",
    "    learners = {}\n",
    "    \n",
    "    # Logistic Regression\n",
    "    learners['classif.log_reg'] = LogisticRegression(max_iter=1000)\n",
    "    \n",
    "    # KNN learners with k from 3 to 30\n",
    "    for k in range(3, 31):\n",
    "        learners[f'classif.knn{k}'] = KNeighborsClassifier(n_neighbors=k)\n",
    "    \n",
    "    return learners\n",
    "\n",
    "learners = create_learners()"
   ]
  },
  {
   "cell_type": "markdown",
   "id": "115016bc-17d2-4f3b-aee9-908f97235ba2",
   "metadata": {},
   "source": [
    "## Create a Benchmarking Design\n",
    "To set up our benchmarking experiment, we define a task (German Credit Data), multiple learners (Logistic Regression and KNN models with k-values from 3 to 30), and a resampling technique (4-fold cross-validation).\n",
    "\n",
    "<details>\n",
    "<summary>Hint 1:</summary>\n",
    "Use the `StratifiedKFold` class from scikit-learn to create a 4-fold cross-validation splitter.\n",
    "</details>"
   ]
  },
  {
   "cell_type": "code",
   "execution_count": 3,
   "id": "aa57dc21-c878-4022-98e2-49b5e161f834",
   "metadata": {
    "ExecuteTime": {
     "end_time": "2025-03-26T09:32:13.656118Z",
     "start_time": "2025-03-26T09:32:13.653720Z"
    },
    "tags": [
     "remove_cell"
    ]
   },
   "outputs": [],
   "source": [
    "#===SOLUTION===\n",
    "\n",
    "from sklearn.model_selection import StratifiedKFold\n",
    "\n",
    "# Create a 4-fold cross-validation splitter.\n",
    "cv = StratifiedKFold(n_splits=4, shuffle=True, random_state=2025)"
   ]
  },
  {
   "cell_type": "markdown",
   "id": "0f250a53-9bbf-495e-962e-6dc6c2c56442",
   "metadata": {},
   "source": [
    "## Define a custom scorer for false positive rate (FPR).\n",
    "In case of a credit use case the false positive rate (FPR) may be innteresting to study next to the accuracy. However, unlike mlr3, sklearn's learners are not inherently equiped with FPR. So, we need to manually define it. \n",
    "\n",
    "<details>\n",
    "<summary>Hint 1:</summary>\n",
    "Define a custom scorer for FPR with 1 as the positive class. The FPR is calculated as the ratio of false positive (FP) to the sum of true negative (TN) and false positives (FP). The FPR is then multiplied by 100 to get a percentage value.\n",
    "</details>\n",
    "\n",
    "<details>\n",
    "<summary>Hint 2:</summary>\n",
    "Use `sklearn.metrics.confusion_matrix` to compute the FP and TN, and use `sklearn.metrics.make_scorer` function to create a scorer object for the FPR. Set the `greater_is_better` argument to `False` because we want to minimize the FPR.\n",
    "</details>"
   ]
  },
  {
   "cell_type": "code",
   "execution_count": 4,
   "id": "1a553a6950550a3a",
   "metadata": {
    "ExecuteTime": {
     "end_time": "2025-03-26T09:32:13.950983Z",
     "start_time": "2025-03-26T09:32:13.948094Z"
    },
    "tags": [
     "remove_cell"
    ]
   },
   "outputs": [],
   "source": [
    "#===SOLUTION===\n",
    "\n",
    "from sklearn.metrics import make_scorer, confusion_matrix\n",
    "\n",
    "# Define a custom scorer for false positive rate (FPR) with 1 as the positive class.\n",
    "def false_positive_rate_percent(y_true, y_pred):\n",
    "    y_true = np.array(y_true)\n",
    "    y_pred = np.array(y_pred)\n",
    "    \n",
    "    # Use confusion_matrix to compute TN and FP\n",
    "    cm = confusion_matrix(y_true, y_pred, labels=[1, 0])\n",
    "    # For binary classification with 1 as positive class:\n",
    "    # cm[1,1] = TN (true negatives)\n",
    "    # cm[1,0] = FP (false positives)\n",
    "    \n",
    "    TN = cm[1, 1]\n",
    "    FP = cm[1, 0]\n",
    "    \n",
    "    if TN + FP == 0:\n",
    "        return 0.0\n",
    "    \n",
    "    return (FP / (TN + FP)) * 100\n",
    "\n",
    "# The lower FPR, the better\n",
    "fpr_scorer = make_scorer(false_positive_rate_percent, greater_is_better=False)"
   ]
  },
  {
   "cell_type": "markdown",
   "id": "7378abd8-dd4b-43b0-bf5c-4894477c782f",
   "metadata": {},
   "source": [
    "## Run the benchmark\n",
    "\n",
    "\n",
    "\n",
    "<details>\n",
    "<summary>Hint 1:</summary>\n",
    "Use the `cross_validate` function from scikit-learn to evaluate each learner using 4-fold cross-validation. Store the fold-wise accuracy scores for the boxplot.\n",
    "</details>\n",
    "\n",
    "<details>\n",
    "<summary>Hint 2:</summary>\n",
    "Calculate the mean accuracy and false negative rate for each learner. In addition, check the docs of \"greater_is_better\" argument of `make_scorer()`. Based on this documentation, what adaptation do you need to make to the code?\n",
    "</details>\n",
    "\n",
    "Note, when using `sklearn.model_selection.cross_validate`, we use the argument `n_jobs=None` by default, this means that we haven't enabled the parallelism in `sklearn`. Therefore, it might take some while. You can also try different values of `n_jobs` and see how much speedup you can get on your computer.\n",
    "\n",
    "## Solution:"
   ]
  },
  {
   "cell_type": "code",
   "execution_count": 5,
   "id": "65349b8aea5782a5",
   "metadata": {
    "ExecuteTime": {
     "end_time": "2025-03-26T09:32:17.355843Z",
     "start_time": "2025-03-26T09:32:14.215877Z"
    },
    "tags": [
     "remove_cell"
    ]
   },
   "outputs": [
    {
     "name": "stdout",
     "output_type": "stream",
     "text": [
      "        learner_id  classif.acc  classif.fpr\n",
      "0  classif.log_reg        0.760    51.333333\n",
      "1     classif.knn3        0.643    72.666667\n",
      "2     classif.knn4        0.610    56.666667\n",
      "3     classif.knn5        0.667    74.666667\n",
      "4     classif.knn6        0.652    65.000000\n"
     ]
    }
   ],
   "source": [
    "#===SOLUTION===\n",
    "\n",
    "from sklearn.model_selection import cross_validate\n",
    "\n",
    "# Benchmarking: evaluate each learner using cross-validation.\n",
    "# We will store the fold-wise accuracy scores for the boxplot.\n",
    "accuracy_scores = {}\n",
    "results = []\n",
    "\n",
    "# Note: we benchmark the models sequentially, so the simple for-loop might reduce the speed\n",
    "# In contrast, the benchmark is fully parallelized in mlr3. \n",
    "for learner_id, model in learners.items():\n",
    "    cv_results = cross_validate(model, X, y, cv=cv,\n",
    "                                scoring={'accuracy': 'accuracy', 'fpr': fpr_scorer})\n",
    "    # Store all fold accuracy scores for the boxplot.\n",
    "    accuracy_scores[learner_id] = cv_results['test_accuracy']\n",
    "\n",
    "    acc_mean = np.mean(cv_results['test_accuracy'])\n",
    "    fpr_mean = np.mean(cv_results['test_fpr'])\n",
    "    # According to the docs of \"greater_is_better\" argument of `make_scorer()`,\n",
    "    # \"greater_is_betterbool, default=True. Whether score_func is a score function (default), \n",
    "    #  meaning high is good, or a loss function, meaning low is good. In the latter case, \n",
    "    #  the scorer object will sign-flip the outcome of the score_func.\"\n",
    "\n",
    "    # Hence, we need to re-flip the sign of `fpr_mean`.\n",
    "    \n",
    "    results.append({'learner_id': learner_id,\n",
    "                    'classif.acc': acc_mean,\n",
    "                    'classif.fpr': - fpr_mean})\n",
    "\n",
    "results_df = pd.DataFrame(results)\n",
    "print(results_df.head())"
   ]
  },
  {
   "cell_type": "markdown",
   "id": "c6559557-e3f0-4c22-8501-16498507c603",
   "metadata": {},
   "source": [
    "## Boxplot the benchmark results\n",
    "\n",
    "To gain a comprehensive understanding of the model's performance, it's important not only to look at the average accuracy across the $k$-folds, but also to examine the variability in performance across the different folds. This helps assess the model's stability. In this case, a boxplot is a useful tool.\n",
    "\n",
    "<details>\n",
    "<summary>Hint 1:</summary>\n",
    "Use the `matplotlib.pyplot.boxplot` to create a boxplot of the accuracy scores for each learner.\n",
    "</details>\n",
    "\n",
    "Solution:"
   ]
  },
  {
   "cell_type": "code",
   "execution_count": 6,
   "id": "40a54559-73d4-415d-883f-43d529082709",
   "metadata": {
    "ExecuteTime": {
     "end_time": "2025-03-26T09:32:17.683422Z",
     "start_time": "2025-03-26T09:32:17.466827Z"
    },
    "tags": [
     "remove_cell"
    ]
   },
   "outputs": [
    {
     "data": {
      "image/png": "[encoded data removed]",
      "text/plain": [
       "<Figure size 1200x600 with 1 Axes>"
      ]
     },
     "metadata": {},
     "output_type": "display_data"
    }
   ],
   "source": [
    "#===SOLUTION===\n",
    "\n",
    "import matplotlib.pyplot as plt\n",
    "\n",
    "\n",
    "# Create a boxplot for each learner's accuracy scores.\n",
    "plt.figure(figsize=(12, 6))\n",
    "plt.boxplot(list(accuracy_scores.values()))\n",
    "plt.xticks(ticks=range(1, len(accuracy_scores) + 1), labels=list(accuracy_scores.keys()), rotation=90)\n",
    "plt.xlabel('Learner ID')\n",
    "plt.ylabel('Accuracy')\n",
    "plt.title('Benchmarking: Accuracy Boxplot of Learners')\n",
    "plt.tight_layout()\n",
    "plt.show()"
   ]
  },
  {
   "cell_type": "markdown",
   "id": "5a7587f3-3167-4576-ae02-3d51f5523fc2",
   "metadata": {},
   "source": [
    "## Interpret the results\n",
    "\n",
    "Interpret the plot. Which 𝑘 seems to work well given the task? Would you prefer a logistic regression over a KNN learner?"
   ]
  },
  {
   "cell_type": "markdown",
   "id": "8ed37afb-935e-45c5-b818-719302b1e057",
   "metadata": {
    "tags": [
     "remove_cell"
    ]
   },
   "source": [
    "===SOLUTION===\n",
    "\n",
    "Solution:\n",
    "In this Python solution, logistic regression outperforms the KNN learners. The best $k$ is around 19. If the $k$ is too small, then the KNN underfits. However, in this benchmark, we did not observe the similar phenomenon as in the R solution that $k > 20$ leads to a large variance of accuracy. This descrepancy may come from the encoding strategy for the categorical features is different in our solution and `mlr3`. In this solution, we use `pd.get_dummies` to create one-hot encoded features. Additionally, the descrepancy can also stem from the implementations of k-NN in `scikit-learn` and `mlr3`."
   ]
  },
  {
   "cell_type": "markdown",
   "id": "f888e3f1-a27a-432c-aa81-6586012d261b",
   "metadata": {},
   "source": [
    "## Extra: Parallelize your efforts\n",
    "\n",
    "We use sklearn's built-in parallelism to parallelize the benchmark.\n",
    "\n",
    "<details>\n",
    "<summary>Hint 1:</summary>\n",
    "Set the `n_jobs` parameter of the `cross_validate` function to a number greater than 1 to parallelize the benchmarking.\n",
    "</details>\n",
    "\n",
    "<details>\n",
    "<summary>Hint 2:</summary>\n",
    "Use `StandardScaler` to standardize the continuous features before running the benchmark. Otherwise, sklearn will throw a `ConvergenceWarning`.\n",
    "We have already recorded the continuous columns' indices in the `continuous_cols` variable.\n",
    "</details>"
   ]
  },
  {
   "cell_type": "code",
   "execution_count": 7,
   "id": "c8e9b0ce4e08644c",
   "metadata": {
    "ExecuteTime": {
     "end_time": "2025-03-26T09:47:34.946597Z",
     "start_time": "2025-03-26T09:47:33.366834Z"
    },
    "tags": [
     "remove_cell"
    ]
   },
   "outputs": [
    {
     "data": {
      "text/html": [
       "<div>\n",
       "<style scoped>\n",
       "    .dataframe tbody tr th:only-of-type {\n",
       "        vertical-align: middle;\n",
       "    }\n",
       "\n",
       "    .dataframe tbody tr th {\n",
       "        vertical-align: top;\n",
       "    }\n",
       "\n",
       "    .dataframe thead th {\n",
       "        text-align: right;\n",
       "    }\n",
       "</style>\n",
       "<table border=\"1\" class=\"dataframe\">\n",
       "  <thead>\n",
       "    <tr style=\"text-align: right;\">\n",
       "      <th></th>\n",
       "      <th>learner_id</th>\n",
       "      <th>classif.acc</th>\n",
       "      <th>classif.fp</th>\n",
       "    </tr>\n",
       "  </thead>\n",
       "  <tbody>\n",
       "    <tr>\n",
       "      <th>0</th>\n",
       "      <td>classif.log_reg</td>\n",
       "      <td>0.758</td>\n",
       "      <td>53.000000</td>\n",
       "    </tr>\n",
       "    <tr>\n",
       "      <th>1</th>\n",
       "      <td>classif.knn3</td>\n",
       "      <td>0.707</td>\n",
       "      <td>61.000000</td>\n",
       "    </tr>\n",
       "    <tr>\n",
       "      <th>2</th>\n",
       "      <td>classif.knn4</td>\n",
       "      <td>0.678</td>\n",
       "      <td>49.666667</td>\n",
       "    </tr>\n",
       "    <tr>\n",
       "      <th>3</th>\n",
       "      <td>classif.knn5</td>\n",
       "      <td>0.722</td>\n",
       "      <td>65.333333</td>\n",
       "    </tr>\n",
       "    <tr>\n",
       "      <th>4</th>\n",
       "      <td>classif.knn6</td>\n",
       "      <td>0.704</td>\n",
       "      <td>55.000000</td>\n",
       "    </tr>\n",
       "  </tbody>\n",
       "</table>\n",
       "</div>"
      ],
      "text/plain": [
       "        learner_id  classif.acc  classif.fp\n",
       "0  classif.log_reg        0.758   53.000000\n",
       "1     classif.knn3        0.707   61.000000\n",
       "2     classif.knn4        0.678   49.666667\n",
       "3     classif.knn5        0.722   65.333333\n",
       "4     classif.knn6        0.704   55.000000"
      ]
     },
     "execution_count": 7,
     "metadata": {},
     "output_type": "execute_result"
    }
   ],
   "source": [
    "#===SOLUTION===\n",
    "\n",
    "from sklearn.preprocessing import StandardScaler\n",
    "\n",
    "# Standardize continuous features, otherwise sklearn will throw ConvergenceWarning.\n",
    "X[continuous_cols] = StandardScaler().fit_transform(X[continuous_cols])\n",
    "\n",
    "learners = create_learners()  # Now returns a dict of name -> learner object\n",
    "\n",
    "# We define a function to run cross-validation for a single learner.\n",
    "def run_learner(learner_id, model):\n",
    "    cv_results = cross_validate(model, X, y, cv=cv,\n",
    "                    scoring={'accuracy': 'accuracy', 'fpr': fpr_scorer},\n",
    "                    n_jobs=4)\n",
    "    acc_mean = np.mean(cv_results['test_accuracy'])\n",
    "    fpr_mean = np.mean(cv_results['test_fpr'])\n",
    "    return learner_id, cv_results['test_accuracy'], acc_mean, fpr_mean\n",
    "\n",
    "parallel_results = [run_learner(learner_id, model) for learner_id, model in learners.items()]\n",
    "\n",
    "# Process results: gather fold-wise accuracy scores and aggregated results.\n",
    "accuracy_scores = {}\n",
    "results = []\n",
    "for learner_id, scores, acc_mean, fpr_mean in parallel_results:\n",
    "    accuracy_scores[learner_id] = scores\n",
    "    results.append({'learner_id': learner_id,\n",
    "                    'classif.acc': acc_mean,\n",
    "                    'classif.fp': - fpr_mean})\n",
    "\n",
    "results_df = pd.DataFrame(results)\n",
    "results_df.head()"
   ]
  }
 ],
 "metadata": {
  "kernelspec": {
   "display_name": "py310",
   "language": "python",
   "name": "python3"
  },
  "language_info": {
   "codemirror_mode": {
    "name": "ipython",
    "version": 3
   },
   "file_extension": ".py",
   "mimetype": "text/x-python",
   "name": "python",
   "nbconvert_exporter": "python",
   "pygments_lexer": "ipython3",
   "version": "3.10.6"
  }
 },
 "nbformat": 4,
 "nbformat_minor": 5
}
