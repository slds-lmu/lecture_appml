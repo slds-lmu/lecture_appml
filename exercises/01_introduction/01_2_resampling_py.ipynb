{
 "cells": [
  {
   "cell_type": "markdown",
   "id": "53b77e69-ff57-44b0-aaa1-659dda63d73b",
   "metadata": {},
   "source": [
    "# Applied Machine Learning: In-class Exercise 01-2"
   ]
  },
  {
   "cell_type": "markdown",
   "id": "5a4d101c-2b27-4361-a203-e4a00d918416",
   "metadata": {},
   "source": [
    "## Goal\n",
    "\n",
    "You will learn how to estimate model performance with `scikit-learn` using resampling techniques such as 5-fold cross-validation. Additionally, you will compare a k‑NN model against a logistic regression model.\n",
    "\n",
    "## German Credit Data\n",
    "We work with the German credit data. You can load the dataset from OpenML and preprocess it for modeling."
   ]
  },
  {
   "cell_type": "code",
   "execution_count": 1,
   "id": "43706c011955d4a5",
   "metadata": {
    "ExecuteTime": {
     "end_time": "2025-03-25T19:08:47.940201Z",
     "start_time": "2025-03-25T19:08:47.580571Z"
    }
   },
   "outputs": [],
   "source": [
    "import pandas as pd\n",
    "\n",
    "import warnings\n",
    "warnings.filterwarnings(\"ignore\")\n",
    "\n",
    "from sklearn.datasets import fetch_openml\n",
    "\n",
    "german_data = fetch_openml(name=\"credit-g\", version=1, as_frame=True)\n",
    "\n",
    "# One-hot encode the features\n",
    "X = pd.get_dummies(german_data.data, drop_first=True)\n",
    "y = german_data.target"
   ]
  },
  {
   "cell_type": "markdown",
   "id": "106b851c4b31e81c",
   "metadata": {},
   "source": [
    "## Exercise: Fairly evaluate the performance of two learners\n",
    "\n",
    "We first create two models using scikit-learn: a logistic regression model and a k‑nearest neighbors (k‑NN) model with $k=5$. We then compare their performance using cross-validation.\n",
    "\n",
    "<details>\n",
    "<summary>Hint 1:</summary>\n",
    "You can use `LogisticRegression` and `KNeighborsClassifier` from `sklearn.linear_model` and `sklearn.neighbors`, respectively.\n",
    "</details>"
   ]
  },
  {
   "cell_type": "code",
   "execution_count": 2,
   "id": "1a03ed067817e2c4",
   "metadata": {
    "ExecuteTime": {
     "end_time": "2025-03-25T19:09:51.250615Z",
     "start_time": "2025-03-25T19:09:51.148552Z"
    },
    "tags": [
     "remove_cell"
    ]
   },
   "outputs": [],
   "source": [
    "#===SOLUTION===\n",
    "\n",
    "# Create the learners\n",
    "from sklearn.linear_model import LogisticRegression\n",
    "from sklearn.neighbors import KNeighborsClassifier\n",
    "\n",
    "\n",
    "log_reg = LogisticRegression(max_iter=1000)\n",
    "knn = KNeighborsClassifier(n_neighbors=5)"
   ]
  },
  {
   "cell_type": "markdown",
   "id": "7d80604cd4912e37",
   "metadata": {},
   "source": [
    "## Set up a resampling instance\n",
    "\n",
    "Use `scikit-learn` to set up a resampling strategy for 5‑fold cross-validation. For example, you can use the `KFold` class to configure the number of folds, shuffling, and a random state for reproducibility.\n",
    "\n",
    "<details>\n",
    "<summary>Hint 1:</summary>\n",
    "You can use `KFold` from `sklearn.model_selection`.\n",
    "</details>"
   ]
  },
  {
   "cell_type": "code",
   "execution_count": 3,
   "id": "37f0e60f06ffc815",
   "metadata": {
    "ExecuteTime": {
     "end_time": "2025-03-25T19:10:37.275213Z",
     "start_time": "2025-03-25T19:10:37.273036Z"
    },
    "tags": [
     "remove_cell"
    ]
   },
   "outputs": [],
   "source": [
    "#===SOLUTION===\n",
    "\n",
    "# Set up 5-fold cross-validation with shuffling for reproducibility\n",
    "from sklearn.model_selection import KFold\n",
    "\n",
    "\n",
    "cv = KFold(n_splits=5, shuffle=True, random_state=100)"
   ]
  },
  {
   "cell_type": "markdown",
   "id": "feb9b78ee7f4d4c8",
   "metadata": {},
   "source": [
    "## Run the resampling\n",
    "\n",
    "After having created a resampling instance, use it to apply the chosen resampling technique to both previously created learners.\n",
    "\n",
    "<details>\n",
    "<summary>Hint 1:</summary>\n",
    "You can use `cross_val_score` from `sklearn.model_selection`.\n",
    "</details>\n"
   ]
  },
  {
   "cell_type": "code",
   "execution_count": 4,
   "id": "f230f1973014f111",
   "metadata": {
    "ExecuteTime": {
     "end_time": "2025-03-25T19:11:19.253327Z",
     "start_time": "2025-03-25T19:11:18.059129Z"
    },
    "tags": [
     "remove_cell"
    ]
   },
   "outputs": [],
   "source": [
    "#===SOLUTION===\n",
    "\n",
    "from sklearn.model_selection import cross_val_score\n",
    "\n",
    "scores_logreg = cross_val_score(log_reg, X, y, cv=cv, scoring='accuracy')\n",
    "scores_knn = cross_val_score(knn, X, y, cv=cv, scoring='accuracy')"
   ]
  },
  {
   "cell_type": "markdown",
   "id": "1cbdb37e211bad3c",
   "metadata": {},
   "source": [
    "## Evaluation\n",
    "\n",
    "Compute the cross-validated classification accuracy of both models. Which learner performed better?\n",
    "\n",
    "<details>\n",
    "<summary>Hint 1:</summary>\n",
    "`cross_val_score` returns an array of scores. You can compute the mean of this array to get the average accuracy.\n",
    "</details>\n",
    "\n"
   ]
  },
  {
   "cell_type": "code",
   "execution_count": 6,
   "id": "57937775a2b5bff",
   "metadata": {
    "ExecuteTime": {
     "end_time": "2025-03-25T19:12:27.440040Z",
     "start_time": "2025-03-25T19:12:27.437117Z"
    },
    "tags": [
     "remove_cell"
    ]
   },
   "outputs": [
    {
     "name": "stdout",
     "output_type": "stream",
     "text": [
      "k-NN CV accuracy: 0.6450\n",
      "Logistic Regression CV accuracy: 0.7480\n"
     ]
    }
   ],
   "source": [
    "#===SOLUTION===\n",
    "\n",
    "print(f\"k-NN CV accuracy: {scores_knn.mean():.4f}\")\n",
    "print(f\"Logistic Regression CV accuracy: {scores_logreg.mean():.4f}\")"
   ]
  },
  {
   "cell_type": "markdown",
   "id": "fa1aa54d-7baf-4c98-8ab4-c08150e27f7a",
   "metadata": {},
   "source": [
    "## Summary\n",
    "\n",
    "We can now apply different resampling methods to estimate the performance of different learners and fairly compare them. We now have learnt how to obtain a better (in terms of variance) estimate of our model performance instead of doing a simple train and test split. This enables us to fairly compare different learners."
   ]
  }
 ],
 "metadata": {
  "kernelspec": {
   "display_name": "Python 3 (ipykernel)",
   "language": "python",
   "name": "python3"
  },
  "language_info": {
   "codemirror_mode": {
    "name": "ipython",
    "version": 3
   },
   "file_extension": ".py",
   "mimetype": "text/x-python",
   "name": "python",
   "nbconvert_exporter": "python",
   "pygments_lexer": "ipython3",
   "version": "3.10.6"
  }
 },
 "nbformat": 4,
 "nbformat_minor": 5
}
